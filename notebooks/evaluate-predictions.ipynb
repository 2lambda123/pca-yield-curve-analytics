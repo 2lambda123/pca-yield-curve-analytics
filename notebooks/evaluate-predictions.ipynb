{
 "cells": [
  {
   "attachments": {},
   "cell_type": "markdown",
   "metadata": {},
   "source": [
    "## EVALUATE PREDICTIONS\n",
    "***"
   ]
  },
  {
   "cell_type": "code",
   "execution_count": 4,
   "metadata": {},
   "outputs": [],
   "source": [
    "import joblib\n",
    "import os\n",
    "import sys\n",
    "import numpy as np\n",
    "\n",
    "root = os.environ['HOME']+\"/private/pca-yield-curve-analytics/\"\n",
    "sys.path.append(root)\n",
    "\n",
    "from src.autoregressive import AR"
   ]
  },
  {
   "cell_type": "code",
   "execution_count": 5,
   "metadata": {},
   "outputs": [],
   "source": [
    "pca = joblib.load(\"../assets/pca.joblib\")\n",
    "pca.__dict__.keys()\n",
    "\n",
    "eig_vectors   = pca.eig_vectors.iloc[:, :pca.k]\n",
    "eig_values    = pca.eig_values\n",
    "eig_scores    = pca.eig_scores.iloc[:, :pca.k]\n",
    "pca_rates     = pca.backtrans_rates\n",
    "pca_rates_oos = pca.backtrans_rates_oos\n",
    "components    = pca.components[:pca.k]"
   ]
  },
  {
   "cell_type": "code",
   "execution_count": null,
   "metadata": {},
   "outputs": [],
   "source": [
    "\n",
    "model1 = Model(\n",
    "    train=pc_scores_train, \n",
    "    test=pc_scores_test, \n",
    "    last_train=pc_scores_last_train,\n",
    "    alpha=0.05,\n",
    "    diff=True\n",
    ")"
   ]
  },
  {
   "cell_type": "code",
   "execution_count": 6,
   "metadata": {},
   "outputs": [
    {
     "data": {
      "text/html": [
       "<div>\n",
       "<style scoped>\n",
       "    .dataframe tbody tr th:only-of-type {\n",
       "        vertical-align: middle;\n",
       "    }\n",
       "\n",
       "    .dataframe tbody tr th {\n",
       "        vertical-align: top;\n",
       "    }\n",
       "\n",
       "    .dataframe thead th {\n",
       "        text-align: right;\n",
       "    }\n",
       "</style>\n",
       "<table border=\"1\" class=\"dataframe\">\n",
       "  <thead>\n",
       "    <tr style=\"text-align: right;\">\n",
       "      <th></th>\n",
       "      <th>PC_1</th>\n",
       "      <th>PC_2</th>\n",
       "      <th>PC_3</th>\n",
       "    </tr>\n",
       "    <tr>\n",
       "      <th>DATE</th>\n",
       "      <th></th>\n",
       "      <th></th>\n",
       "      <th></th>\n",
       "    </tr>\n",
       "  </thead>\n",
       "  <tbody>\n",
       "    <tr>\n",
       "      <th>2020-01-02</th>\n",
       "      <td>0.561199</td>\n",
       "      <td>0.057797</td>\n",
       "      <td>-1.704488</td>\n",
       "    </tr>\n",
       "    <tr>\n",
       "      <th>2020-01-03</th>\n",
       "      <td>0.757168</td>\n",
       "      <td>0.027235</td>\n",
       "      <td>-1.649763</td>\n",
       "    </tr>\n",
       "    <tr>\n",
       "      <th>2020-01-06</th>\n",
       "      <td>0.854628</td>\n",
       "      <td>0.025289</td>\n",
       "      <td>-1.639824</td>\n",
       "    </tr>\n",
       "    <tr>\n",
       "      <th>2020-01-07</th>\n",
       "      <td>0.791871</td>\n",
       "      <td>0.028159</td>\n",
       "      <td>-1.671056</td>\n",
       "    </tr>\n",
       "    <tr>\n",
       "      <th>2020-01-08</th>\n",
       "      <td>0.673580</td>\n",
       "      <td>0.011034</td>\n",
       "      <td>-1.704163</td>\n",
       "    </tr>\n",
       "    <tr>\n",
       "      <th>...</th>\n",
       "      <td>...</td>\n",
       "      <td>...</td>\n",
       "      <td>...</td>\n",
       "    </tr>\n",
       "    <tr>\n",
       "      <th>2022-08-25</th>\n",
       "      <td>-6.048356</td>\n",
       "      <td>-0.207569</td>\n",
       "      <td>-1.245164</td>\n",
       "    </tr>\n",
       "    <tr>\n",
       "      <th>2022-08-26</th>\n",
       "      <td>-6.485152</td>\n",
       "      <td>-0.203951</td>\n",
       "      <td>-1.264077</td>\n",
       "    </tr>\n",
       "    <tr>\n",
       "      <th>2022-08-29</th>\n",
       "      <td>-6.868003</td>\n",
       "      <td>-0.191461</td>\n",
       "      <td>-1.195470</td>\n",
       "    </tr>\n",
       "    <tr>\n",
       "      <th>2022-08-30</th>\n",
       "      <td>-6.599771</td>\n",
       "      <td>-0.179143</td>\n",
       "      <td>-0.975667</td>\n",
       "    </tr>\n",
       "    <tr>\n",
       "      <th>2022-08-31</th>\n",
       "      <td>-6.782656</td>\n",
       "      <td>-0.122632</td>\n",
       "      <td>-0.900984</td>\n",
       "    </tr>\n",
       "  </tbody>\n",
       "</table>\n",
       "<p>684 rows × 3 columns</p>\n",
       "</div>"
      ],
      "text/plain": [
       "                PC_1      PC_2      PC_3\n",
       "DATE                                    \n",
       "2020-01-02  0.561199  0.057797 -1.704488\n",
       "2020-01-03  0.757168  0.027235 -1.649763\n",
       "2020-01-06  0.854628  0.025289 -1.639824\n",
       "2020-01-07  0.791871  0.028159 -1.671056\n",
       "2020-01-08  0.673580  0.011034 -1.704163\n",
       "...              ...       ...       ...\n",
       "2022-08-25 -6.048356 -0.207569 -1.245164\n",
       "2022-08-26 -6.485152 -0.203951 -1.264077\n",
       "2022-08-29 -6.868003 -0.191461 -1.195470\n",
       "2022-08-30 -6.599771 -0.179143 -0.975667\n",
       "2022-08-31 -6.782656 -0.122632 -0.900984\n",
       "\n",
       "[684 rows x 3 columns]"
      ]
     },
     "execution_count": 6,
     "metadata": {},
     "output_type": "execute_result"
    }
   ],
   "source": [
    "eig_scores"
   ]
  }
 ],
 "metadata": {
  "kernelspec": {
   "display_name": "Python 3",
   "language": "python",
   "name": "python3"
  },
  "language_info": {
   "codemirror_mode": {
    "name": "ipython",
    "version": 3
   },
   "file_extension": ".py",
   "mimetype": "text/x-python",
   "name": "python",
   "nbconvert_exporter": "python",
   "pygments_lexer": "ipython3",
   "version": "3.8.10"
  },
  "orig_nbformat": 4,
  "vscode": {
   "interpreter": {
    "hash": "e7370f93d1d0cde622a1f8e1c04877d8463912d04d973331ad4851f04de6915a"
   }
  }
 },
 "nbformat": 4,
 "nbformat_minor": 2
}
